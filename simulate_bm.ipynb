{
 "cells": [
  {
   "cell_type": "markdown",
   "metadata": {},
   "source": [
    "MIT License\n",
    "\n",
    "Copyright (c) 2024 Jacques Le Thuaut"
   ]
  },
  {
   "cell_type": "code",
   "execution_count": 1,
   "metadata": {},
   "outputs": [],
   "source": [
    "%matplotlib widget"
   ]
  },
  {
   "cell_type": "code",
   "execution_count": 2,
   "metadata": {},
   "outputs": [],
   "source": [
    "import numpy as np\n",
    "import matplotlib.pyplot as plt\n",
    "import ipywidgets as widgets\n",
    "from IPython.display import display, clear_output\n",
    "from loguru import logger"
   ]
  },
  {
   "cell_type": "code",
   "execution_count": 3,
   "metadata": {},
   "outputs": [
    {
     "data": {
      "text/plain": [
       "1"
      ]
     },
     "execution_count": 3,
     "metadata": {},
     "output_type": "execute_result"
    }
   ],
   "source": [
    "logger.add(\"debug.log\", level=\"INFO\", rotation=\"1 week\", retention=\"4 weeks\")"
   ]
  },
  {
   "cell_type": "code",
   "execution_count": 4,
   "metadata": {},
   "outputs": [],
   "source": [
    "@logger.catch\n",
    "def simulate_wiener_process(n_steps=1000, dt=1, mu=0, sigma=0.1, seed=123):\n",
    "    \"\"\" simulate Wiener process\n",
    "\n",
    "    Args:\n",
    "        n_steps (int, optional): _description_. Defaults to 1000.\n",
    "        dt (int, optional): _description_. Defaults to 1.\n",
    "        mu (int, optional): _description_. Defaults to 0.\n",
    "        sigma (float, optional): _description_. Defaults to 0.1.\n",
    "        seed (int, optional): _description_. Defaults to 123.\n",
    "\n",
    "    Returns:\n",
    "        _type_: the Wiener process\n",
    "    \"\"\"\n",
    "    np.random.seed(seed)\n",
    "\n",
    "    # Initialize the Wiener process array\n",
    "    w = np.zeros(n_steps)\n",
    "    w[0] = 0  # Initial value\n",
    "\n",
    "    # Simulate the Wiener process\n",
    "    for i in range(1, n_steps):\n",
    "        dw = np.random.normal(loc=mu * dt, scale=sigma * np.sqrt(dt))\n",
    "        w[i] = w[i - 1] + dw\n",
    "\n",
    "    return w"
   ]
  },
  {
   "cell_type": "code",
   "execution_count": 5,
   "metadata": {},
   "outputs": [],
   "source": [
    "@logger.catch\n",
    "def plot_wiener_process(w):\n",
    "    \"\"\"plot Wiener process\n",
    "\n",
    "    Args:\n",
    "        w (_type_): _description_\n",
    "    \"\"\"\n",
    "    fig = plt.figure()\n",
    "    ax = fig.gca()\n",
    "    ax.plot(w, color='magenta')\n",
    "    ax.set_xlabel(\"Time\")\n",
    "    ax.set_ylabel(\"W\")\n",
    "    ax.set_title(\"Simulated Brownian Motion\")\n",
    "    ax.grid(True)\n",
    "    plt.show()\n"
   ]
  },
  {
   "cell_type": "code",
   "execution_count": 6,
   "metadata": {},
   "outputs": [],
   "source": [
    "@logger.catch\n",
    "def update_plot(button):\n",
    "    \"\"\"update the plor\n",
    "\n",
    "    Args:\n",
    "        button (_type_): _description_\n",
    "    \"\"\"\n",
    "    with output:\n",
    "        clear_output(wait=True)\n",
    "        n = n_steps_slider.value\n",
    "        dt_val = dt_slider.value\n",
    "        mu_val = mu_slider.value\n",
    "        sigma_val = sigma_slider.value\n",
    "        w = simulate_wiener_process(n_steps=n, dt=dt_val, mu=mu_val, sigma=sigma_val)\n",
    "        plot_wiener_process(w)\n"
   ]
  },
  {
   "cell_type": "code",
   "execution_count": 7,
   "metadata": {},
   "outputs": [
    {
     "data": {
      "application/vnd.jupyter.widget-view+json": {
       "model_id": "f6ca627060bf4342ac61334555ad7cc8",
       "version_major": 2,
       "version_minor": 0
      },
      "text/plain": [
       "VBox(children=(IntSlider(value=1000, description='Steps:', max=5000, min=100, step=100), FloatSlider(value=1.0…"
      ]
     },
     "metadata": {},
     "output_type": "display_data"
    },
    {
     "data": {
      "application/vnd.jupyter.widget-view+json": {
       "model_id": "5a591b17bf3441d3be927263c72fcfa7",
       "version_major": 2,
       "version_minor": 0
      },
      "text/plain": [
       "HBox(children=(Button(description='Run Simulation', icon='check', style=ButtonStyle()),))"
      ]
     },
     "metadata": {},
     "output_type": "display_data"
    },
    {
     "data": {
      "application/vnd.jupyter.widget-view+json": {
       "model_id": "037bd0a096954378bda49aec066c16e7",
       "version_major": 2,
       "version_minor": 0
      },
      "text/plain": [
       "Output()"
      ]
     },
     "metadata": {},
     "output_type": "display_data"
    },
    {
     "data": {
      "text/plain": [
       "<contextlib.ExitStack at 0x1077e6420>"
      ]
     },
     "execution_count": 7,
     "metadata": {},
     "output_type": "execute_result"
    }
   ],
   "source": [
    "# Create the widgets\n",
    "n_steps_slider = widgets.IntSlider(value=1000, min=100, max=5000, step=100, description='Steps:')\n",
    "dt_slider = widgets.FloatSlider(value=1, min=0.1, max=2, step=0.1, description='dt:')\n",
    "mu_slider = widgets.FloatSlider(value=0, min=-0.5, max=0.5, step=0.1, description='mu:')\n",
    "sigma_slider = widgets.FloatSlider(value=0.1, min=0.01, max=1, step=0.01, description='sigma:')\n",
    "run_button = widgets.Button(description='Run Simulation', icon='check')\n",
    "\n",
    "# Arrange widgets layout\n",
    "parameters = widgets.VBox([n_steps_slider, dt_slider, mu_slider, sigma_slider])\n",
    "controls = widgets.HBox([run_button])\n",
    "output = widgets.Output()\n",
    "\n",
    "run_button.on_click(update_plot)\n",
    "\n",
    "# Display the widgets\n",
    "display(parameters, controls, output)\n",
    "\n",
    "# Set the interactive mode to 'on' for live plot updates\n",
    "plt.ion()\n"
   ]
  }
 ],
 "metadata": {
  "kernelspec": {
   "display_name": "venv-312",
   "language": "python",
   "name": "python3"
  },
  "language_info": {
   "codemirror_mode": {
    "name": "ipython",
    "version": 3
   },
   "file_extension": ".py",
   "mimetype": "text/x-python",
   "name": "python",
   "nbconvert_exporter": "python",
   "pygments_lexer": "ipython3",
   "version": "3.12.2"
  }
 },
 "nbformat": 4,
 "nbformat_minor": 2
}
